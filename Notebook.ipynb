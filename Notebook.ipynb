{
    "cells": [
        {
            "cell_type": "markdown",
            "metadata": {},
            "source": "<h1>Chris Caspar's Notebook</h1>"
        },
        {
            "cell_type": "markdown",
            "metadata": {},
            "source": "My name is Chris Caspar and this is my Module 2 assignment."
        },
        {
            "cell_type": "markdown",
            "metadata": {},
            "source": "These are the top data science languages:\n<ol>\n<li>Python</li>\n<li>R</li>\n<li>SQL</li>\n</ol>"
        },
        {
            "cell_type": "markdown",
            "metadata": {},
            "source": "These are the top data science libraries:\n<ol>\n<li>Pandas</li>\n<li>NumPy</li>\n<li>Scikit-learn</li>  \n<li>Keras</li>\n<li>TensorFlow</li>\n<li>PyTorch</li>\n<li>Matplotlib</li>\n<li>Seaborn</li>   \n</ol>"
        },
        {
            "cell_type": "markdown",
            "metadata": {},
            "source": "| Type | Tool |\n| ------ | ------ |\n| Data Management | MySQL |\n| Data Management | mongoDB |\n| Data Integration and Transformation | Apache Airflow |\n| Data Integration and Transformation | Kubeflow |\n| Data Visualization | Hue |\n| Data Visualization | kibana |\n| Model Deployment | PredictionIO |\n| Model Deployment | mleap |\n| Model Monitoring and Assessment | ModelDB |\n| Model Monitoring and Assessment | Prometheus |\n| Code Asset Management | GitHub |\n| Code Asset Management | GitLab |\n| Data Asset Management | Apache Atlas |\n| Data Asset Management | Egeria |"
        },
        {
            "cell_type": "markdown",
            "metadata": {},
            "source": "Algorithmic expressions are computational processes that are critical to programming. They can range from simple math operations to complex algorithms. Below are some examples."
        },
        {
            "cell_type": "code",
            "execution_count": 5,
            "metadata": {},
            "outputs": [
                {
                    "name": "stdout",
                    "output_type": "stream",
                    "text": "20\n"
                }
            ],
            "source": "print((1+1)*10)"
        },
        {
            "cell_type": "code",
            "execution_count": 7,
            "metadata": {},
            "outputs": [
                {
                    "name": "stdout",
                    "output_type": "stream",
                    "text": "2.5\n"
                }
            ],
            "source": "Mintues = 150\nHours = Mintues/60\nprint(Hours)"
        },
        {
            "cell_type": "markdown",
            "metadata": {},
            "source": "To review, the assignment objectives are:\n<ul>\n<li>Create and share a public Jupyter notebook, in any language, in Watson Studio and create markdown cells for peer review.</li>\n<li>Evaluate and grade final assignments submitted by fellow learners using the given rubric. Provide constructive feedback and offer ideas and suggestions that fellow learners can apply right away.</li> \n</ul>"
        },
        {
            "cell_type": "markdown",
            "metadata": {},
            "source": "Author: Chris Caspar"
        },
        {
            "cell_type": "code",
            "execution_count": null,
            "metadata": {},
            "outputs": [],
            "source": ""
        }
    ],
    "metadata": {
        "kernelspec": {
            "display_name": "Python 3.10",
            "language": "python",
            "name": "python3"
        },
        "language_info": {
            "codemirror_mode": {
                "name": "ipython",
                "version": 3
            },
            "file_extension": ".py",
            "mimetype": "text/x-python",
            "name": "python",
            "nbconvert_exporter": "python",
            "pygments_lexer": "ipython3",
            "version": "3.10.9"
        }
    },
    "nbformat": 4,
    "nbformat_minor": 1
}